{
 "cells": [
  {
   "cell_type": "code",
   "execution_count": 1,
   "id": "9f470fbd",
   "metadata": {},
   "outputs": [],
   "source": [
    "import requests\n",
    "from bs4 import BeautifulSoup\n",
    "import pandas as pd\n",
    "import requests\n",
    "import json"
   ]
  },
  {
   "cell_type": "code",
   "execution_count": 3,
   "id": "500412c9",
   "metadata": {},
   "outputs": [],
   "source": [
    "URL = \"https://developer-lostark.game.onstove.com/news/events\"\n",
    "response = requests.get(URL,headers={\"Authorization\":'bearer openApiKey'})"
   ]
  },
  {
   "cell_type": "code",
   "execution_count": 4,
   "id": "48649ddb",
   "metadata": {},
   "outputs": [
    {
     "name": "stdout",
     "output_type": "stream",
     "text": [
      "2022 3rd 네리아의 드레스룸\n",
      "하얀 늑대의 안식처\n",
      "더 위쳐 콜라보레이션 기념 패키지\n",
      "함께 응원하로아!\n",
      "따끈따끈 찐빵 룰렛\n",
      "추억의 촛불 밝히기\n",
      "진저 브레드의 달콤한 도전! 도전 출근왕\n",
      "로스트아크 카드, 계속되는 기분 좋은 혜택\n",
      "2022 PC방 해피위크 PLUS\n"
     ]
    }
   ],
   "source": [
    "jd=response.json()\n",
    "for x in jd:\n",
    "    print(x['Title'])"
   ]
  },
  {
   "cell_type": "code",
   "execution_count": 52,
   "id": "14e930ed",
   "metadata": {},
   "outputs": [
    {
     "data": {
      "text/plain": [
       "[{'Title': '2022 3rd 네리아의 드레스룸',\n",
       "  'Thumbnail': 'https://cdn-lostark.game.onstove.com/uploadfiles/banner/34e0244a2b494804982c0ed81983b5ca.jpg',\n",
       "  'Link': 'https://lostark.game.onstove.com/Promotion/DressRoom/221207',\n",
       "  'StartDate': '2022-12-07T06:00:00',\n",
       "  'EndDate': '2023-01-04T06:00:00',\n",
       "  'RewardDate': None},\n",
       " {'Title': '하얀 늑대의 안식처',\n",
       "  'Thumbnail': 'https://cdn-lostark.game.onstove.com/uploadfiles/banner/82a47346d66b44eba798575853b88f41.jpg',\n",
       "  'Link': 'https://lostark.game.onstove.com/Promotion/Collaboration/221123',\n",
       "  'StartDate': '2022-11-23T06:00:00',\n",
       "  'EndDate': '2023-01-18T06:00:00',\n",
       "  'RewardDate': None},\n",
       " {'Title': '더 위쳐 콜라보레이션 기념 패키지',\n",
       "  'Thumbnail': 'https://cdn-lostark.game.onstove.com/uploadfiles/banner/4a8bda2de60f42f6b093becfd3a2aa8f.jpg',\n",
       "  'Link': 'https://lostark.game.onstove.com/Promotion/Package/221123',\n",
       "  'StartDate': '2022-11-23T06:00:00',\n",
       "  'EndDate': '2023-01-18T06:00:00',\n",
       "  'RewardDate': None},\n",
       " {'Title': '함께 응원하로아!',\n",
       "  'Thumbnail': 'https://cdn-lostark.game.onstove.com/uploadfiles/banner/f62da79040ab4e628f2063a5b1df36d0.jpg',\n",
       "  'Link': 'https://lostark.game.onstove.com/News/Notice/Views/2190',\n",
       "  'StartDate': '2022-11-23T06:00:00',\n",
       "  'EndDate': '2022-12-19T06:00:00',\n",
       "  'RewardDate': None},\n",
       " {'Title': '따끈따끈 찐빵 룰렛',\n",
       "  'Thumbnail': 'https://cdn-lostark.game.onstove.com/uploadfiles/banner/54628a7c4e614fc38fc105c685f0c116.jpg',\n",
       "  'Link': 'https://lostark.game.onstove.com/Promotion/Roulette/v2/3',\n",
       "  'StartDate': '2022-11-23T06:00:00',\n",
       "  'EndDate': '2022-12-21T06:00:00',\n",
       "  'RewardDate': '2022-12-28T06:00:00'},\n",
       " {'Title': '추억의 촛불 밝히기',\n",
       "  'Thumbnail': 'https://cdn-lostark.game.onstove.com/uploadfiles/banner/d807225421734b408d6e8f3e12073577.jpg',\n",
       "  'Link': 'https://lostark.game.onstove.com/Promotion/Mission/221109',\n",
       "  'StartDate': '2022-11-09T06:00:00',\n",
       "  'EndDate': '2022-12-07T06:00:00',\n",
       "  'RewardDate': '2022-12-14T06:00:00'},\n",
       " {'Title': '진저 브레드의 달콤한 도전! 도전 출근왕',\n",
       "  'Thumbnail': 'https://cdn-lostark.game.onstove.com/uploadfiles/banner/6d880c343145455e97ba8e1e79c5b657.jpg',\n",
       "  'Link': 'https://lostark.game.onstove.com/Promotion/Attendcheck/221109',\n",
       "  'StartDate': '2022-11-09T06:00:00',\n",
       "  'EndDate': '2023-01-04T06:00:00',\n",
       "  'RewardDate': '2023-01-11T06:00:00'},\n",
       " {'Title': '로스트아크 카드, 계속되는 기분 좋은 혜택',\n",
       "  'Thumbnail': 'https://cdn-lostark.game.onstove.com/uploadfiles/banner/47c23d0441f74539a2f541818ad0d710.jpg',\n",
       "  'Link': 'https://lostark.game.onstove.com/Promotion/Collaboration/221026v2',\n",
       "  'StartDate': '2022-10-26T06:00:00',\n",
       "  'EndDate': '2022-12-31T23:59:00',\n",
       "  'RewardDate': None},\n",
       " {'Title': '2022 PC방 해피위크 PLUS',\n",
       "  'Thumbnail': 'https://cdn-lostark.game.onstove.com/uploadfiles/banner/94fa6dfa41a94b0fab5adc3cd8d4f75b.jpg',\n",
       "  'Link': 'https://lostark.game.onstove.com/Promotion/PcRoom/221012',\n",
       "  'StartDate': '2022-10-12T06:00:00',\n",
       "  'EndDate': '2022-12-14T06:00:00',\n",
       "  'RewardDate': '2022-12-21T06:00:00'}]"
      ]
     },
     "execution_count": 52,
     "metadata": {},
     "output_type": "execute_result"
    }
   ],
   "source": [
    "jd"
   ]
  }
 ],
 "metadata": {
  "kernelspec": {
   "display_name": "jsh",
   "language": "python",
   "name": "jsh"
  },
  "language_info": {
   "codemirror_mode": {
    "name": "ipython",
    "version": 3
   },
   "file_extension": ".py",
   "mimetype": "text/x-python",
   "name": "python",
   "nbconvert_exporter": "python",
   "pygments_lexer": "ipython3",
   "version": "3.7.15"
  }
 },
 "nbformat": 4,
 "nbformat_minor": 5
}
