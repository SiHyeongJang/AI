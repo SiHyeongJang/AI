{
 "cells": [
  {
   "cell_type": "code",
   "execution_count": 8,
   "id": "e480a0de",
   "metadata": {},
   "outputs": [],
   "source": [
    "import pandas as pd\n",
    "from pyspark import SparkContext\n",
    "from pyspark import SparkConf\n",
    "from pyspark.sql import SparkSession\n",
    "import os\n",
    "import sys\n",
    "\n",
    "os.environ['SPARK_CLASSPATH'] = r\"/usr/local/lib/python3.10/site-packages/pyspark/jars/postgresql-42.3.7.jar\"\n",
    "\n",
    "spconf = SparkConf().setMaster('local').setAppName('Tutorial')\n",
    "sc = SparkContext(conf=spconf)\n",
    "sqlContext = SQLContext(sc)\n",
    "\n",
    "sparkPath = r\"/usr/local/lib/python3.10/site-packages/pyspark/jars/postgresql-42.3.7.jar\"\n",
    "\n",
    "spark = SparkSession \\\n",
    "    .builder \\\n",
    "    .config(\"spark.driver.extraClassPath\", sparkPath) \\\n",
    "    .getOrCreate()\n"
   ]
  },
  {
   "cell_type": "code",
   "execution_count": 5,
   "id": "4119cb0f",
   "metadata": {},
   "outputs": [],
   "source": [
    "# # 중지할때 사용\n",
    "# sc.stop()"
   ]
  },
  {
   "cell_type": "code",
   "execution_count": 10,
   "id": "041b6441",
   "metadata": {},
   "outputs": [],
   "source": [
    "# 테이블 전체 load\n",
    "df = sqlContext.read.format(\"jdbc\").options(\n",
    "    url=\"jdbc:postgresql://ip:port/db\",\n",
    "    port=5555,\n",
    "    driver = \"org.postgresql.Driver\",\n",
    "    dbtable = 'public.\"I_FCLTS_SGNL_ACTV\"',\n",
    "    user='id',\n",
    "    password='pw#2022').load()"
   ]
  },
  {
   "cell_type": "code",
   "execution_count": 11,
   "id": "bb58f83a",
   "metadata": {},
   "outputs": [
    {
     "name": "stdout",
     "output_type": "stream",
     "text": [
      "+--------------------+------+-------------------+-------+--------+--------------------+-----+------+------+-----+-----+-------+--------------------+\n",
      "|                  id|L1NAME|         UPDATEDATE|ENDDATE|TIMESPAN|          SIGNALNAME|VALUE|FILTER|TYPEID|JUDGE|ERROR|WARNING|          COLLECT_DT|\n",
      "+--------------------+------+-------------------+-------+--------+--------------------+-----+------+------+-----+-----+-------+--------------------+\n",
      "|63d74fa9055b7949c...|  MCT1|2023-01-30 14:03:37|   null|     0.0|MainComment_path1...| null|  null|  null| null| null|   null|2023-01-30 14:03:...|\n",
      "|63d74fa9055b7949c...|  MCT1|2023-01-30 14:03:37|   null|     0.0|ActComment_path1_...| null|  null|  null| null| null|   null|2023-01-30 14:03:...|\n",
      "|63d74fa9055b7949c...|  MCT1|2023-01-30 14:03:37|   null|     0.0|   SigCUT_path1_MCT1| null|  null|  null| null| null|   null|2023-01-30 14:03:...|\n",
      "|63d74fa9055b7949c...|  MCT1|2023-01-30 14:03:37|   null|     0.0|CncWarning_path1_...| null|  null|  null| null| null|   null|2023-01-30 14:03:...|\n",
      "|63d74fa9055b7949c...|  MCT1|2023-01-30 14:03:37|   null|     0.0|ServoTemp_0_path1...| null|  null|  null| null| null|   null|2023-01-30 14:03:...|\n",
      "|63d74fa9055b7949c...|  MCT1|2023-01-30 14:03:37|   null|     0.0|ServoCurrent_2_pa...| null|  null|  null| null| null|   null|2023-01-30 14:03:...|\n",
      "|63d74fa9055b7949c...|  MCT1|2023-01-30 14:03:37|   null|     0.0|ServoLoad_3_path1...| null|  null|  null| null| null|   null|2023-01-30 14:03:...|\n",
      "|63d74fa9055b7949c...|  MCT1|2023-01-30 14:03:37|   null|     0.0|PulseCoderTemp_4_...| null|  null|  null| null| null|   null|2023-01-30 14:03:...|\n",
      "|63d74fa9055b7949c...|  MCT1|2023-01-30 14:03:37|   null|     0.0|SpindleLoad_0_pat...| null|  null|  null| null| null|   null|2023-01-30 14:03:...|\n",
      "|63d74fa9055b7949c...|  MCT1|2023-01-30 14:03:37|   null|     0.0|CncWarning_path2_...| null|  null|  null| null| null|   null|2023-01-30 14:03:...|\n",
      "|63d74fa9055b7949c...|  MCT1|2023-01-30 14:03:37|   null|     0.0|                STOP| null|  null|  null| null| null|   null|2023-01-30 14:03:...|\n",
      "|63d74fa9055b7949c...|  MCT1|2023-01-30 14:03:37|   null|     0.0| ProductSerialNumber| null|  null|  null| null| null|   null|2023-01-30 14:03:...|\n",
      "|63d74fa9055b7949c...|  MCT2|2023-01-30 14:03:37|   null|     0.0|    SigOP_path1_MCT2| null|  null|  null| null| null|   null|2023-01-30 14:03:...|\n",
      "|63d74fa9055b7949c...|  MCT2|2023-01-30 14:03:37|   null|     0.0|ActComment_path1_...| null|  null|  null| null| null|   null|2023-01-30 14:03:...|\n",
      "|63d74fa9055b7949c...|  MCT2|2023-01-30 14:03:37|   null|     0.0|   SigCUT_path1_MCT2| null|  null|  null| null| null|   null|2023-01-30 14:03:...|\n",
      "|63d74fa9055b7949c...|  MCT2|2023-01-30 14:03:37|   null|     0.0|ServoCurrent_0_pa...| null|  null|  null| null| null|   null|2023-01-30 14:03:...|\n",
      "|63d74fa9055b7949c...|  MCT2|2023-01-30 14:03:37|   null|     0.0|ServoLoad_1_path1...| null|  null|  null| null| null|   null|2023-01-30 14:03:...|\n",
      "|63770988055b79262...|  MCT2|2022-11-18 13:26:48|   null|     0.0|  RunTime_path1_MCT2| null|  null|  null| null| null|   null|2022-11-18 13:26:...|\n",
      "|63d74fa9055b7949c...|  MCT2|2023-01-30 14:03:37|   null|     0.0|PulseCoderTemp_2_...| null|  null|  null| null| null|   null|2023-01-30 14:03:...|\n",
      "|63d74fa9055b7949c...|  MCT2|2023-01-30 14:03:37|   null|     0.0|ServoCurrent_4_pa...| null|  null|  null| null| null|   null|2023-01-30 14:03:...|\n",
      "+--------------------+------+-------------------+-------+--------+--------------------+-----+------+------+-----+-----+-------+--------------------+\n",
      "only showing top 20 rows\n",
      "\n"
     ]
    }
   ],
   "source": [
    "df.show()"
   ]
  },
  {
   "cell_type": "code",
   "execution_count": null,
   "id": "a54ba3d9",
   "metadata": {},
   "outputs": [],
   "source": [
    "df = sqlContext.read.format(\"jdbc\").options(\n",
    "    url=\"jdbc:postgresql://ip:port/db\",\n",
    "    port=5555,\n",
    "    driver = \"org.postgresql.Driver\",\n",
    "    dbtable = 'public.\"table',\n",
    "    user='id',\n",
    "    password='pw#2022').load()"
   ]
  },
  {
   "cell_type": "markdown",
   "id": "f320e3b0",
   "metadata": {},
   "source": [
    "# 쿼리 -> spark.read(df)"
   ]
  },
  {
   "cell_type": "code",
   "execution_count": 18,
   "id": "77b59ade",
   "metadata": {},
   "outputs": [],
   "source": [
    "sql1 = '''\n",
    "select * from public.\"table\"\n",
    "'''"
   ]
  },
  {
   "cell_type": "code",
   "execution_count": 19,
   "id": "ada60281",
   "metadata": {},
   "outputs": [],
   "source": [
    "df2 = spark.read.format(\"jdbc\")\\\n",
    "    .option(\"url\",\"jdbc:postgresql://ip:port/db\")\\\n",
    "    .option(\"driver\", \"org.postgresql.Driver\")\\\n",
    "    .option(\"query\", sql1 )\\\n",
    "    .option(\"user\", 'id')\\\n",
    "    .option(\"password\", 'pw#2022')\\\n",
    "    .load()"
   ]
  },
  {
   "cell_type": "code",
   "execution_count": 20,
   "id": "46147dff",
   "metadata": {},
   "outputs": [
    {
     "name": "stdout",
     "output_type": "stream",
     "text": [
      "+--------------------+------+-------------------+-------+--------+--------------------+-----+------+------+-----+-----+-------+--------------------+\n",
      "|                  id|L1NAME|         UPDATEDATE|ENDDATE|TIMESPAN|          SIGNALNAME|VALUE|FILTER|TYPEID|JUDGE|ERROR|WARNING|          COLLECT_DT|\n",
      "+--------------------+------+-------------------+-------+--------+--------------------+-----+------+------+-----+-----+-------+--------------------+\n",
      "|63d74fa9055b7949c...|  MCT1|2023-01-30 14:03:37|   null|     0.0|MainComment_path1...| null|  null|  null| null| null|   null|2023-01-30 14:03:...|\n",
      "|63d74fa9055b7949c...|  MCT1|2023-01-30 14:03:37|   null|     0.0|ActComment_path1_...| null|  null|  null| null| null|   null|2023-01-30 14:03:...|\n",
      "|63d74fa9055b7949c...|  MCT1|2023-01-30 14:03:37|   null|     0.0|   SigCUT_path1_MCT1| null|  null|  null| null| null|   null|2023-01-30 14:03:...|\n",
      "|63d74fa9055b7949c...|  MCT1|2023-01-30 14:03:37|   null|     0.0|CncWarning_path1_...| null|  null|  null| null| null|   null|2023-01-30 14:03:...|\n",
      "|63d74fa9055b7949c...|  MCT1|2023-01-30 14:03:37|   null|     0.0|ServoTemp_0_path1...| null|  null|  null| null| null|   null|2023-01-30 14:03:...|\n",
      "|63d74fa9055b7949c...|  MCT1|2023-01-30 14:03:37|   null|     0.0|ServoCurrent_2_pa...| null|  null|  null| null| null|   null|2023-01-30 14:03:...|\n",
      "|63d74fa9055b7949c...|  MCT1|2023-01-30 14:03:37|   null|     0.0|ServoLoad_3_path1...| null|  null|  null| null| null|   null|2023-01-30 14:03:...|\n",
      "|63d74fa9055b7949c...|  MCT1|2023-01-30 14:03:37|   null|     0.0|PulseCoderTemp_4_...| null|  null|  null| null| null|   null|2023-01-30 14:03:...|\n",
      "|63d74fa9055b7949c...|  MCT1|2023-01-30 14:03:37|   null|     0.0|SpindleLoad_0_pat...| null|  null|  null| null| null|   null|2023-01-30 14:03:...|\n",
      "|63d74fa9055b7949c...|  MCT1|2023-01-30 14:03:37|   null|     0.0|CncWarning_path2_...| null|  null|  null| null| null|   null|2023-01-30 14:03:...|\n",
      "|63d74fa9055b7949c...|  MCT1|2023-01-30 14:03:37|   null|     0.0|                STOP| null|  null|  null| null| null|   null|2023-01-30 14:03:...|\n",
      "|63d74fa9055b7949c...|  MCT1|2023-01-30 14:03:37|   null|     0.0| ProductSerialNumber| null|  null|  null| null| null|   null|2023-01-30 14:03:...|\n",
      "|63d74fa9055b7949c...|  MCT2|2023-01-30 14:03:37|   null|     0.0|    SigOP_path1_MCT2| null|  null|  null| null| null|   null|2023-01-30 14:03:...|\n",
      "|63d74fa9055b7949c...|  MCT2|2023-01-30 14:03:37|   null|     0.0|ActComment_path1_...| null|  null|  null| null| null|   null|2023-01-30 14:03:...|\n",
      "|63d74fa9055b7949c...|  MCT2|2023-01-30 14:03:37|   null|     0.0|   SigCUT_path1_MCT2| null|  null|  null| null| null|   null|2023-01-30 14:03:...|\n",
      "|63d74fa9055b7949c...|  MCT2|2023-01-30 14:03:37|   null|     0.0|ServoCurrent_0_pa...| null|  null|  null| null| null|   null|2023-01-30 14:03:...|\n",
      "|63d74fa9055b7949c...|  MCT2|2023-01-30 14:03:37|   null|     0.0|ServoLoad_1_path1...| null|  null|  null| null| null|   null|2023-01-30 14:03:...|\n",
      "|63770988055b79262...|  MCT2|2022-11-18 13:26:48|   null|     0.0|  RunTime_path1_MCT2| null|  null|  null| null| null|   null|2022-11-18 13:26:...|\n",
      "|63d74fa9055b7949c...|  MCT2|2023-01-30 14:03:37|   null|     0.0|PulseCoderTemp_2_...| null|  null|  null| null| null|   null|2023-01-30 14:03:...|\n",
      "|63d74fa9055b7949c...|  MCT2|2023-01-30 14:03:37|   null|     0.0|ServoCurrent_4_pa...| null|  null|  null| null| null|   null|2023-01-30 14:03:...|\n",
      "+--------------------+------+-------------------+-------+--------+--------------------+-----+------+------+-----+-----+-------+--------------------+\n",
      "only showing top 20 rows\n",
      "\n"
     ]
    }
   ],
   "source": [
    "df2.show()"
   ]
  },
  {
   "cell_type": "code",
   "execution_count": null,
   "id": "b11c2962",
   "metadata": {},
   "outputs": [],
   "source": []
  },
  {
   "cell_type": "code",
   "execution_count": null,
   "id": "ca91d97e",
   "metadata": {},
   "outputs": [],
   "source": []
  },
  {
   "cell_type": "code",
   "execution_count": null,
   "id": "54ad35c3",
   "metadata": {},
   "outputs": [],
   "source": []
  },
  {
   "cell_type": "code",
   "execution_count": null,
   "id": "55d9d46a",
   "metadata": {},
   "outputs": [],
   "source": []
  }
 ],
 "metadata": {
  "kernelspec": {
   "display_name": "Python 3 (ipykernel)",
   "language": "python",
   "name": "python3"
  },
  "language_info": {
   "codemirror_mode": {
    "name": "ipython",
    "version": 3
   },
   "file_extension": ".py",
   "mimetype": "text/x-python",
   "name": "python",
   "nbconvert_exporter": "python",
   "pygments_lexer": "ipython3",
   "version": "3.10.4"
  }
 },
 "nbformat": 4,
 "nbformat_minor": 5
}
