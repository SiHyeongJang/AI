{
 "cells": [
  {
   "cell_type": "code",
   "execution_count": 8,
   "id": "528a48ec",
   "metadata": {},
   "outputs": [],
   "source": [
    "import pandas as pd\n",
    "from pyspark import SparkContext\n",
    "from pyspark import SparkConf\n",
    "from pyspark.sql import SparkSession\n",
    "import os\n",
    "import sys\n",
    "\n",
    "os.environ['SPARK_CLASSPATH'] = r\"/usr/local/lib/python3.10/site-packages/pyspark/jars/postgresql-42.3.7.jar\"\n",
    "\n",
    "spconf = SparkConf().setMaster('local').setAppName('Tutorial')\n",
    "sc = SparkContext(conf=spconf)\n",
    "sqlContext = SQLContext(sc)\n",
    "\n",
    "sparkPath = r\"/usr/local/lib/python3.10/site-packages/pyspark/jars/postgresql-42.3.7.jar\"\n",
    "\n",
    "spark = SparkSession \\\n",
    "    .builder \\\n",
    "    .config(\"spark.driver.extraClassPath\", sparkPath) \\\n",
    "    .getOrCreate()\n"
   ]
  },
  {
   "cell_type": "code",
   "execution_count": 5,
   "id": "73fd2368",
   "metadata": {},
   "outputs": [],
   "source": [
    "# # 중지할때 사용\n",
    "# sc.stop()"
   ]
  },
  {
   "cell_type": "code",
   "execution_count": 10,
   "id": "02464718",
   "metadata": {},
   "outputs": [],
   "source": [
    "# 테이블 전체 load\n",
    "df = sqlContext.read.format(\"jdbc\").options(\n",
    "    url=\"jdbc:postgresql://KDCDB02:5732/kodaco\",\n",
    "    port=5732,\n",
    "    driver = \"org.postgresql.Driver\",\n",
    "    dbtable = 'public.\"I_FCLTS_SGNL_ACTV\"',\n",
    "    user='kodaco',\n",
    "    password='kodaco#2022').load()"
   ]
  },
  {
   "cell_type": "code",
   "execution_count": 11,
   "id": "64bc98ae",
   "metadata": {},
   "outputs": [
    {
     "name": "stdout",
     "output_type": "stream",
     "text": [
      "+--------------------+------+-------------------+-------+--------+--------------------+-----+------+------+-----+-----+-------+--------------------+\n",
      "|                  id|L1NAME|         UPDATEDATE|ENDDATE|TIMESPAN|          SIGNALNAME|VALUE|FILTER|TYPEID|JUDGE|ERROR|WARNING|          COLLECT_DT|\n",
      "+--------------------+------+-------------------+-------+--------+--------------------+-----+------+------+-----+-----+-------+--------------------+\n",
      "|63d74fa9055b7949c...|  MCT1|2023-01-30 14:03:37|   null|     0.0|MainComment_path1...| null|  null|  null| null| null|   null|2023-01-30 14:03:...|\n",
      "|63d74fa9055b7949c...|  MCT1|2023-01-30 14:03:37|   null|     0.0|ActComment_path1_...| null|  null|  null| null| null|   null|2023-01-30 14:03:...|\n",
      "|63d74fa9055b7949c...|  MCT1|2023-01-30 14:03:37|   null|     0.0|   SigCUT_path1_MCT1| null|  null|  null| null| null|   null|2023-01-30 14:03:...|\n",
      "|63d74fa9055b7949c...|  MCT1|2023-01-30 14:03:37|   null|     0.0|CncWarning_path1_...| null|  null|  null| null| null|   null|2023-01-30 14:03:...|\n",
      "|63d74fa9055b7949c...|  MCT1|2023-01-30 14:03:37|   null|     0.0|ServoTemp_0_path1...| null|  null|  null| null| null|   null|2023-01-30 14:03:...|\n",
      "|63d74fa9055b7949c...|  MCT1|2023-01-30 14:03:37|   null|     0.0|ServoCurrent_2_pa...| null|  null|  null| null| null|   null|2023-01-30 14:03:...|\n",
      "|63d74fa9055b7949c...|  MCT1|2023-01-30 14:03:37|   null|     0.0|ServoLoad_3_path1...| null|  null|  null| null| null|   null|2023-01-30 14:03:...|\n",
      "|63d74fa9055b7949c...|  MCT1|2023-01-30 14:03:37|   null|     0.0|PulseCoderTemp_4_...| null|  null|  null| null| null|   null|2023-01-30 14:03:...|\n",
      "|63d74fa9055b7949c...|  MCT1|2023-01-30 14:03:37|   null|     0.0|SpindleLoad_0_pat...| null|  null|  null| null| null|   null|2023-01-30 14:03:...|\n",
      "|63d74fa9055b7949c...|  MCT1|2023-01-30 14:03:37|   null|     0.0|CncWarning_path2_...| null|  null|  null| null| null|   null|2023-01-30 14:03:...|\n",
      "|63d74fa9055b7949c...|  MCT1|2023-01-30 14:03:37|   null|     0.0|                STOP| null|  null|  null| null| null|   null|2023-01-30 14:03:...|\n",
      "|63d74fa9055b7949c...|  MCT1|2023-01-30 14:03:37|   null|     0.0| ProductSerialNumber| null|  null|  null| null| null|   null|2023-01-30 14:03:...|\n",
      "|63d74fa9055b7949c...|  MCT2|2023-01-30 14:03:37|   null|     0.0|    SigOP_path1_MCT2| null|  null|  null| null| null|   null|2023-01-30 14:03:...|\n",
      "|63d74fa9055b7949c...|  MCT2|2023-01-30 14:03:37|   null|     0.0|ActComment_path1_...| null|  null|  null| null| null|   null|2023-01-30 14:03:...|\n",
      "|63d74fa9055b7949c...|  MCT2|2023-01-30 14:03:37|   null|     0.0|   SigCUT_path1_MCT2| null|  null|  null| null| null|   null|2023-01-30 14:03:...|\n",
      "|63d74fa9055b7949c...|  MCT2|2023-01-30 14:03:37|   null|     0.0|ServoCurrent_0_pa...| null|  null|  null| null| null|   null|2023-01-30 14:03:...|\n",
      "|63d74fa9055b7949c...|  MCT2|2023-01-30 14:03:37|   null|     0.0|ServoLoad_1_path1...| null|  null|  null| null| null|   null|2023-01-30 14:03:...|\n",
      "|63770988055b79262...|  MCT2|2022-11-18 13:26:48|   null|     0.0|  RunTime_path1_MCT2| null|  null|  null| null| null|   null|2022-11-18 13:26:...|\n",
      "|63d74fa9055b7949c...|  MCT2|2023-01-30 14:03:37|   null|     0.0|PulseCoderTemp_2_...| null|  null|  null| null| null|   null|2023-01-30 14:03:...|\n",
      "|63d74fa9055b7949c...|  MCT2|2023-01-30 14:03:37|   null|     0.0|ServoCurrent_4_pa...| null|  null|  null| null| null|   null|2023-01-30 14:03:...|\n",
      "+--------------------+------+-------------------+-------+--------+--------------------+-----+------+------+-----+-----+-------+--------------------+\n",
      "only showing top 20 rows\n",
      "\n"
     ]
    }
   ],
   "source": [
    "df.show()"
   ]
  },
  {
   "cell_type": "code",
   "execution_count": null,
   "id": "20ddc218",
   "metadata": {},
   "outputs": [],
   "source": [
    "df = sqlContext.read.format(\"jdbc\").options(\n",
    "    url=\"jdbc:postgresql://KDCDB02:5732/kodaco\",\n",
    "    port=5732,\n",
    "    driver = \"org.postgresql.Driver\",\n",
    "    dbtable = 'public.\"I_FCLTS_SGNL_ACTV\"',\n",
    "    user='kodaco',\n",
    "    password='kodaco#2022').load()"
   ]
  },
  {
   "cell_type": "markdown",
   "id": "bd362c6b",
   "metadata": {},
   "source": [
    "# 쿼리 -> spark.read(df)"
   ]
  },
  {
   "cell_type": "code",
   "execution_count": 18,
   "id": "b90a8c62",
   "metadata": {},
   "outputs": [],
   "source": [
    "sql1 = '''\n",
    "select * from public.\"I_FCLTS_SGNL_ACTV\"\n",
    "'''"
   ]
  },
  {
   "cell_type": "code",
   "execution_count": 19,
   "id": "06630f78",
   "metadata": {},
   "outputs": [],
   "source": [
    "df2 = spark.read.format(\"jdbc\")\\\n",
    "    .option(\"url\",\"jdbc:postgresql://KDCDB02:5732/kodaco\")\\\n",
    "    .option(\"driver\", \"org.postgresql.Driver\")\\\n",
    "    .option(\"query\", sql1 )\\\n",
    "    .option(\"user\", 'kodaco')\\\n",
    "    .option(\"password\", 'kodaco#2022')\\\n",
    "    .load()"
   ]
  },
  {
   "cell_type": "code",
   "execution_count": 20,
   "id": "fe9f19e7",
   "metadata": {},
   "outputs": [
    {
     "name": "stdout",
     "output_type": "stream",
     "text": [
      "+--------------------+------+-------------------+-------+--------+--------------------+-----+------+------+-----+-----+-------+--------------------+\n",
      "|                  id|L1NAME|         UPDATEDATE|ENDDATE|TIMESPAN|          SIGNALNAME|VALUE|FILTER|TYPEID|JUDGE|ERROR|WARNING|          COLLECT_DT|\n",
      "+--------------------+------+-------------------+-------+--------+--------------------+-----+------+------+-----+-----+-------+--------------------+\n",
      "|63d74fa9055b7949c...|  MCT1|2023-01-30 14:03:37|   null|     0.0|MainComment_path1...| null|  null|  null| null| null|   null|2023-01-30 14:03:...|\n",
      "|63d74fa9055b7949c...|  MCT1|2023-01-30 14:03:37|   null|     0.0|ActComment_path1_...| null|  null|  null| null| null|   null|2023-01-30 14:03:...|\n",
      "|63d74fa9055b7949c...|  MCT1|2023-01-30 14:03:37|   null|     0.0|   SigCUT_path1_MCT1| null|  null|  null| null| null|   null|2023-01-30 14:03:...|\n",
      "|63d74fa9055b7949c...|  MCT1|2023-01-30 14:03:37|   null|     0.0|CncWarning_path1_...| null|  null|  null| null| null|   null|2023-01-30 14:03:...|\n",
      "|63d74fa9055b7949c...|  MCT1|2023-01-30 14:03:37|   null|     0.0|ServoTemp_0_path1...| null|  null|  null| null| null|   null|2023-01-30 14:03:...|\n",
      "|63d74fa9055b7949c...|  MCT1|2023-01-30 14:03:37|   null|     0.0|ServoCurrent_2_pa...| null|  null|  null| null| null|   null|2023-01-30 14:03:...|\n",
      "|63d74fa9055b7949c...|  MCT1|2023-01-30 14:03:37|   null|     0.0|ServoLoad_3_path1...| null|  null|  null| null| null|   null|2023-01-30 14:03:...|\n",
      "|63d74fa9055b7949c...|  MCT1|2023-01-30 14:03:37|   null|     0.0|PulseCoderTemp_4_...| null|  null|  null| null| null|   null|2023-01-30 14:03:...|\n",
      "|63d74fa9055b7949c...|  MCT1|2023-01-30 14:03:37|   null|     0.0|SpindleLoad_0_pat...| null|  null|  null| null| null|   null|2023-01-30 14:03:...|\n",
      "|63d74fa9055b7949c...|  MCT1|2023-01-30 14:03:37|   null|     0.0|CncWarning_path2_...| null|  null|  null| null| null|   null|2023-01-30 14:03:...|\n",
      "|63d74fa9055b7949c...|  MCT1|2023-01-30 14:03:37|   null|     0.0|                STOP| null|  null|  null| null| null|   null|2023-01-30 14:03:...|\n",
      "|63d74fa9055b7949c...|  MCT1|2023-01-30 14:03:37|   null|     0.0| ProductSerialNumber| null|  null|  null| null| null|   null|2023-01-30 14:03:...|\n",
      "|63d74fa9055b7949c...|  MCT2|2023-01-30 14:03:37|   null|     0.0|    SigOP_path1_MCT2| null|  null|  null| null| null|   null|2023-01-30 14:03:...|\n",
      "|63d74fa9055b7949c...|  MCT2|2023-01-30 14:03:37|   null|     0.0|ActComment_path1_...| null|  null|  null| null| null|   null|2023-01-30 14:03:...|\n",
      "|63d74fa9055b7949c...|  MCT2|2023-01-30 14:03:37|   null|     0.0|   SigCUT_path1_MCT2| null|  null|  null| null| null|   null|2023-01-30 14:03:...|\n",
      "|63d74fa9055b7949c...|  MCT2|2023-01-30 14:03:37|   null|     0.0|ServoCurrent_0_pa...| null|  null|  null| null| null|   null|2023-01-30 14:03:...|\n",
      "|63d74fa9055b7949c...|  MCT2|2023-01-30 14:03:37|   null|     0.0|ServoLoad_1_path1...| null|  null|  null| null| null|   null|2023-01-30 14:03:...|\n",
      "|63770988055b79262...|  MCT2|2022-11-18 13:26:48|   null|     0.0|  RunTime_path1_MCT2| null|  null|  null| null| null|   null|2022-11-18 13:26:...|\n",
      "|63d74fa9055b7949c...|  MCT2|2023-01-30 14:03:37|   null|     0.0|PulseCoderTemp_2_...| null|  null|  null| null| null|   null|2023-01-30 14:03:...|\n",
      "|63d74fa9055b7949c...|  MCT2|2023-01-30 14:03:37|   null|     0.0|ServoCurrent_4_pa...| null|  null|  null| null| null|   null|2023-01-30 14:03:...|\n",
      "+--------------------+------+-------------------+-------+--------+--------------------+-----+------+------+-----+-----+-------+--------------------+\n",
      "only showing top 20 rows\n",
      "\n"
     ]
    }
   ],
   "source": [
    "df2.show()"
   ]
  },
  {
   "cell_type": "code",
   "execution_count": null,
   "id": "c76637fb",
   "metadata": {},
   "outputs": [],
   "source": []
  },
  {
   "cell_type": "code",
   "execution_count": null,
   "id": "5263d107",
   "metadata": {},
   "outputs": [],
   "source": []
  },
  {
   "cell_type": "code",
   "execution_count": null,
   "id": "56bec591",
   "metadata": {},
   "outputs": [],
   "source": []
  },
  {
   "cell_type": "code",
   "execution_count": null,
   "id": "03c7a940",
   "metadata": {},
   "outputs": [],
   "source": []
  }
 ],
 "metadata": {
  "kernelspec": {
   "display_name": "Python 3 (ipykernel)",
   "language": "python",
   "name": "python3"
  },
  "language_info": {
   "codemirror_mode": {
    "name": "ipython",
    "version": 3
   },
   "file_extension": ".py",
   "mimetype": "text/x-python",
   "name": "python",
   "nbconvert_exporter": "python",
   "pygments_lexer": "ipython3",
   "version": "3.10.4"
  }
 },
 "nbformat": 4,
 "nbformat_minor": 5
}
