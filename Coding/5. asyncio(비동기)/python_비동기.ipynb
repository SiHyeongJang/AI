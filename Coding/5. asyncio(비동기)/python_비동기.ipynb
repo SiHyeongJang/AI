{
 "cells": [
  {
   "cell_type": "code",
   "execution_count": 1,
   "id": "82becb28",
   "metadata": {},
   "outputs": [],
   "source": [
    "import asyncio\n",
    "# import pandas as pd\n",
    "# import numpy as np\n",
    "# import time\n",
    "# import sqlalchemy\n",
    "# from sqlalchemy import create_engine\n",
    "# from datetime import timedelta\n",
    "# import psycopg2\n",
    "# import pickle\n",
    "# import joblib\n",
    "# import os\n",
    "import datetime\n",
    "\n",
    "import warnings\n",
    "warnings.filterwarnings(action='ignore')"
   ]
  },
  {
   "cell_type": "code",
   "execution_count": 4,
   "id": "647ce01e",
   "metadata": {},
   "outputs": [],
   "source": [
    "# 비동기 처리\n",
    "async def task(s_time, string):\n",
    "    try :\n",
    "        print('비동기 처리 시작, 설비 : ',string,' 해당 설비 ',s_time,'분 후 마무리 작업 진행')\n",
    "        warm_s_start = datetime.datetime.now()\n",
    "        print('현재 시간 : ',warm_s_start)\n",
    "        await asyncio.sleep(s_time*60)\n",
    "        sleep_toTime = datetime.datetime.now()\n",
    "        print(string,'설비 sleep 후 : ',sleep_toTime,'시간부로 다음 동작 진행')\n",
    "\n",
    "    except Exception as e:    \n",
    "        print(string,'설비 에러 : 연결 확인 : ',e)"
   ]
  },
  {
   "cell_type": "code",
   "execution_count": 5,
   "id": "4656bd88",
   "metadata": {},
   "outputs": [
    {
     "name": "stdout",
     "output_type": "stream",
     "text": [
      "비동기 처리 시작, 설비 :  MCT1  해당 설비  1 분 후 마무리 작업 진행\n",
      "현재 시간 :  2023-01-26 13:40:34.103227\n",
      "비동기 처리 시작, 설비 :  MCT2  해당 설비  2 분 후 마무리 작업 진행\n",
      "현재 시간 :  2023-01-26 13:40:34.103276\n",
      "비동기 처리 시작, 설비 :  MCT3  해당 설비  3 분 후 마무리 작업 진행\n",
      "현재 시간 :  2023-01-26 13:40:34.103306\n",
      "MCT1 설비 sleep 후 :  2023-01-26 13:41:34.163694 시간부로 다음 동작 진행\n",
      "MCT2 설비 sleep 후 :  2023-01-26 13:42:34.118349 시간부로 다음 동작 진행\n",
      "MCT3 설비 sleep 후 :  2023-01-26 13:43:34.163708 시간부로 다음 동작 진행\n"
     ]
    }
   ],
   "source": [
    "# 비동기 처리\n",
    "# task(n,string) 함수 동작 : \n",
    "## n = sleep할 시간 분*60\n",
    "## string = 설비명\n",
    "try :\n",
    "    loop = asyncio.get_event_loop()\n",
    "    tasks = [\n",
    "        loop.create_task(task(1, 'MCT1')),\n",
    "        loop.create_task(task(2, 'MCT2')),\n",
    "        loop.create_task(task(3, 'MCT3'))\n",
    "    ]\n",
    "    loop.run_until_complete(asyncio.gather(*tasks))\n",
    "    loop.close()\n",
    "except :\n",
    "    pass"
   ]
  },
  {
   "cell_type": "code",
   "execution_count": null,
   "id": "ed29f634",
   "metadata": {},
   "outputs": [],
   "source": []
  }
 ],
 "metadata": {
  "kernelspec": {
   "display_name": "Python 3 (ipykernel)",
   "language": "python",
   "name": "python3"
  },
  "language_info": {
   "codemirror_mode": {
    "name": "ipython",
    "version": 3
   },
   "file_extension": ".py",
   "mimetype": "text/x-python",
   "name": "python",
   "nbconvert_exporter": "python",
   "pygments_lexer": "ipython3",
   "version": "3.10.4"
  }
 },
 "nbformat": 4,
 "nbformat_minor": 5
}
