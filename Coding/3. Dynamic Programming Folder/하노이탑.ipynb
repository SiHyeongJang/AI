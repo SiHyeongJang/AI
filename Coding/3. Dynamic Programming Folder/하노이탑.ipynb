{
 "cells": [
  {
   "cell_type": "code",
   "execution_count": 3,
   "id": "736adbc4",
   "metadata": {},
   "outputs": [],
   "source": [
    "# URL : https://sikaleo.tistory.com/29\n",
    "MOVE_MESSAGE = \"{}번 원반을 {}에서 {}로 이동\"\n",
    "def move(N, start, destination):\n",
    "    print(MOVE_MESSAGE.format(N, start, destination))\n",
    "\n",
    "\n",
    "def hanoi(n, start, destination, via):\n",
    "    \"\"\"\n",
    "    하노이의 탑 규칙에 따라 원반을 옮기고,\n",
    "    옮길 때마다 원반의 시작 위치와 이동한 위치를 출력합니다.\n",
    "    마지막으로 총 이동 횟수를 반환합니다.\n",
    "    :params\n",
    "        n: 총 원반 개수\n",
    "        start: 시작 기둥\n",
    "        destination: 도착 기둥\n",
    "        via: 보조 기둥:\n",
    "    :return count:\n",
    "    \"\"\"\n",
    "    # 원반이 1개일 때 시작 기둥에서 도착 기둥까지 한 번에 이동\n",
    "    if n <= 1:\n",
    "        move(1, start, destination)\n",
    "        return 1\n",
    "\n",
    "    count = 0\n",
    "    # 원반 n-1개를 시작 기둥에서 보조 기둥으로 이동\n",
    "    count += hanoi(n - 1, start, via, destination)\n",
    "\n",
    "    # 가장 큰 원반을 시작 기둥에서 도착 기둥으로 이동\n",
    "    count += 1\n",
    "    move(n, start, destination)\n",
    "\n",
    "    # 원반 n-1개를 보조 기둥에서 도착 기둥으로 이동\n",
    "    count += hanoi(n - 1, via, destination, start)\n",
    "\n",
    "    return count\n",
    "\n",
    "\n"
   ]
  },
  {
   "cell_type": "code",
   "execution_count": 8,
   "id": "d7193d83",
   "metadata": {},
   "outputs": [
    {
     "name": "stdout",
     "output_type": "stream",
     "text": [
      "1번 원반을 1에서 3로 이동\n",
      "2번 원반을 1에서 2로 이동\n",
      "1번 원반을 3에서 2로 이동\n",
      "3번 원반을 1에서 3로 이동\n",
      "1번 원반을 2에서 1로 이동\n",
      "2번 원반을 2에서 3로 이동\n",
      "1번 원반을 1에서 3로 이동\n",
      "4번 원반을 1에서 2로 이동\n",
      "1번 원반을 3에서 2로 이동\n",
      "2번 원반을 3에서 1로 이동\n",
      "1번 원반을 2에서 1로 이동\n",
      "3번 원반을 3에서 2로 이동\n",
      "1번 원반을 1에서 3로 이동\n",
      "2번 원반을 1에서 2로 이동\n",
      "1번 원반을 3에서 2로 이동\n",
      "5번 원반을 1에서 3로 이동\n",
      "1번 원반을 2에서 1로 이동\n",
      "2번 원반을 2에서 3로 이동\n",
      "1번 원반을 1에서 3로 이동\n",
      "3번 원반을 2에서 1로 이동\n",
      "1번 원반을 3에서 2로 이동\n",
      "2번 원반을 3에서 1로 이동\n",
      "1번 원반을 2에서 1로 이동\n",
      "4번 원반을 2에서 3로 이동\n",
      "1번 원반을 1에서 3로 이동\n",
      "2번 원반을 1에서 2로 이동\n",
      "1번 원반을 3에서 2로 이동\n",
      "3번 원반을 1에서 3로 이동\n",
      "1번 원반을 2에서 1로 이동\n",
      "2번 원반을 2에서 3로 이동\n",
      "1번 원반을 1에서 3로 이동\n",
      "총 횟수 :  31\n"
     ]
    }
   ],
   "source": [
    "if __name__ == '__main__':\n",
    "    n = 5\n",
    "    start = 1\n",
    "    destination = 3\n",
    "    via = 2\n",
    "\n",
    "    total_count = hanoi(n, start, destination, via)\n",
    "    print('총 횟수 : ',total_count)"
   ]
  },
  {
   "cell_type": "code",
   "execution_count": 12,
   "id": "3d3702b4",
   "metadata": {},
   "outputs": [
    {
     "name": "stdout",
     "output_type": "stream",
     "text": [
      "31\n",
      "1 3\n",
      "1 2\n",
      "3 2\n",
      "1 3\n",
      "2 1\n",
      "2 3\n",
      "1 3\n",
      "1 2\n",
      "3 2\n",
      "3 1\n",
      "2 1\n",
      "3 2\n",
      "1 3\n",
      "1 2\n",
      "3 2\n",
      "1 3\n",
      "2 1\n",
      "2 3\n",
      "1 3\n",
      "2 1\n",
      "3 2\n",
      "3 1\n",
      "2 1\n",
      "2 3\n",
      "1 3\n",
      "1 2\n",
      "3 2\n",
      "1 3\n",
      "2 1\n",
      "2 3\n",
      "1 3\n"
     ]
    }
   ],
   "source": [
    "# URL : https://wantchicken.tistory.com/45\n",
    "import sys\n",
    "def hanoi(n,a,b,c):\n",
    "    if n==1:\n",
    "        move.append([a,c]) ## 원반을 옮기는 것을 의미합니다\n",
    "    else:\n",
    "        hanoi(n-1,a,c,b) ## 1. N개의 하노이 탑을 옮길 경우, 가장 왼쪽에 있는 N - 1개의 원반을 중간 부분으로 옮겨 줍니다\n",
    "        move.append([a,c]) ## 2. 그리고 가장 왼쪽에 있으며 마지막 한 개의 원반을 가장 오른쪽으로 옮겨줍니다\n",
    "        hanoi(n-1,b,a,c) ## 3. 마지막으로 중간에 있는 N - 1개의 원반을 가장 오른쪽으로 넘겨 줍니다\n",
    "\n",
    "move = []\n",
    "# hanoi(int(sys.stdin.readline()),1,2,3) ## 1에서 3으로 옮기겠다는 뜻을 나타냅니다\n",
    "hanoi(5,1,2,3)\n",
    "print(len(move)) ## 총 이동 수를 나타냅니다\n",
    "print(\"\\n\".join([' '.join(str(i) for i in row) for row in move])) ## 출력합니다"
   ]
  },
  {
   "cell_type": "code",
   "execution_count": null,
   "id": "db3074f1",
   "metadata": {},
   "outputs": [],
   "source": []
  }
 ],
 "metadata": {
  "kernelspec": {
   "display_name": "jsh",
   "language": "python",
   "name": "jsh"
  },
  "language_info": {
   "codemirror_mode": {
    "name": "ipython",
    "version": 3
   },
   "file_extension": ".py",
   "mimetype": "text/x-python",
   "name": "python",
   "nbconvert_exporter": "python",
   "pygments_lexer": "ipython3",
   "version": "3.7.15"
  }
 },
 "nbformat": 4,
 "nbformat_minor": 5
}
