{
 "cells": [
  {
   "cell_type": "markdown",
   "id": "487923a3",
   "metadata": {},
   "source": [
    "# String 텍스트 관련"
   ]
  },
  {
   "cell_type": "markdown",
   "id": "14c6e6f0",
   "metadata": {},
   "source": [
    "## 리스트 내 TEXT 정렬"
   ]
  },
  {
   "cell_type": "code",
   "execution_count": 62,
   "id": "a3aabca8",
   "metadata": {},
   "outputs": [],
   "source": [
    "st1 = ['act','atc','atc','bvt','btv','csv']\n",
    "st2 = list(map(lambda x : ''.join(sorted(x)), st1))"
   ]
  },
  {
   "cell_type": "code",
   "execution_count": 63,
   "id": "a23d5750",
   "metadata": {},
   "outputs": [
    {
     "data": {
      "text/plain": [
       "['act', 'act', 'act', 'btv', 'btv', 'csv']"
      ]
     },
     "execution_count": 63,
     "metadata": {},
     "output_type": "execute_result"
    }
   ],
   "source": [
    "st2"
   ]
  },
  {
   "cell_type": "code",
   "execution_count": 64,
   "id": "ca79b6e7",
   "metadata": {},
   "outputs": [
    {
     "data": {
      "text/plain": [
       "['act', 'atc', 'atc', 'bvt', 'btv', 'csv']"
      ]
     },
     "execution_count": 64,
     "metadata": {},
     "output_type": "execute_result"
    }
   ],
   "source": [
    "st1"
   ]
  },
  {
   "cell_type": "code",
   "execution_count": 58,
   "id": "57a4cf06",
   "metadata": {},
   "outputs": [
    {
     "data": {
      "text/plain": [
       "{'act': 'atc', 'btv': 'btv', 'csv': 'csv'}"
      ]
     },
     "execution_count": 58,
     "metadata": {},
     "output_type": "execute_result"
    }
   ],
   "source": [
    "dic1 = dict(zip(st2,list(st1)))\n",
    "dic1"
   ]
  },
  {
   "cell_type": "markdown",
   "id": "6609de0f",
   "metadata": {},
   "source": [
    "## 키값으로 중복된 부분 list 묶기"
   ]
  },
  {
   "cell_type": "code",
   "execution_count": 74,
   "id": "14d56565",
   "metadata": {},
   "outputs": [],
   "source": [
    "from collections import defaultdict\n",
    "dic = defaultdict(list)\n",
    "\n",
    "for i in range(len(st2)):\n",
    "    dic[st2[i]].append(st1[i])"
   ]
  },
  {
   "cell_type": "code",
   "execution_count": 75,
   "id": "250cdabb",
   "metadata": {},
   "outputs": [
    {
     "data": {
      "text/plain": [
       "defaultdict(list,\n",
       "            {'act': ['act', 'atc', 'atc'],\n",
       "             'btv': ['bvt', 'btv'],\n",
       "             'csv': ['csv']})"
      ]
     },
     "execution_count": 75,
     "metadata": {},
     "output_type": "execute_result"
    }
   ],
   "source": [
    "dic"
   ]
  },
  {
   "cell_type": "code",
   "execution_count": 82,
   "id": "002240c3",
   "metadata": {},
   "outputs": [
    {
     "data": {
      "text/plain": [
       "dict_values([['act', 'atc', 'atc'], ['bvt', 'btv'], ['csv'], [], [], []])"
      ]
     },
     "execution_count": 82,
     "metadata": {},
     "output_type": "execute_result"
    }
   ],
   "source": [
    "dic.values()"
   ]
  },
  {
   "cell_type": "code",
   "execution_count": 84,
   "id": "3a6df9c5",
   "metadata": {},
   "outputs": [
    {
     "data": {
      "text/plain": [
       "dict_keys(['act', 'btv', 'csv', 0, 1, 2])"
      ]
     },
     "execution_count": 84,
     "metadata": {},
     "output_type": "execute_result"
    }
   ],
   "source": [
    "dic.keys()"
   ]
  },
  {
   "cell_type": "code",
   "execution_count": 102,
   "id": "7e021269",
   "metadata": {},
   "outputs": [
    {
     "data": {
      "text/plain": [
       "[['act', 'atc', 'atc'], ['bvt', 'btv'], ['csv']]"
      ]
     },
     "execution_count": 102,
     "metadata": {},
     "output_type": "execute_result"
    }
   ],
   "source": [
    "l1 = []\n",
    "for i in dic.values():\n",
    "    if len(i) > 0:\n",
    "        l1.append(i)\n",
    "l1"
   ]
  },
  {
   "cell_type": "code",
   "execution_count": 114,
   "id": "0ea763a6",
   "metadata": {},
   "outputs": [
    {
     "name": "stdout",
     "output_type": "stream",
     "text": [
      "act 키 값 개수 :  3\n",
      "btv 키 값 개수 :  2\n",
      "csv 키 값 개수 :  1\n",
      "0 키 값 개수 :  0\n",
      "1 키 값 개수 :  0\n",
      "2 키 값 개수 :  0\n"
     ]
    }
   ],
   "source": [
    "for k,v in dict(dic).items():\n",
    "    print(k,'키 값 개수 : ',len(v))"
   ]
  },
  {
   "cell_type": "code",
   "execution_count": 117,
   "id": "3ffc8d1e",
   "metadata": {},
   "outputs": [
    {
     "name": "stdout",
     "output_type": "stream",
     "text": [
      "act 키 값 개수 :  3\n",
      "btv 키 값 개수 :  2\n",
      "csv 키 값 개수 :  1\n"
     ]
    }
   ],
   "source": [
    "for k,v in dict(dic).items():\n",
    "    if len(v) > 0:\n",
    "        print(k,'키 값 개수 : ',len(v))"
   ]
  },
  {
   "cell_type": "code",
   "execution_count": null,
   "id": "66b54c63",
   "metadata": {},
   "outputs": [],
   "source": []
  },
  {
   "cell_type": "code",
   "execution_count": null,
   "id": "cdbd2c33",
   "metadata": {},
   "outputs": [],
   "source": []
  },
  {
   "cell_type": "code",
   "execution_count": null,
   "id": "5ecb591c",
   "metadata": {},
   "outputs": [],
   "source": []
  }
 ],
 "metadata": {
  "kernelspec": {
   "display_name": "jsh",
   "language": "python",
   "name": "jsh"
  },
  "language_info": {
   "codemirror_mode": {
    "name": "ipython",
    "version": 3
   },
   "file_extension": ".py",
   "mimetype": "text/x-python",
   "name": "python",
   "nbconvert_exporter": "python",
   "pygments_lexer": "ipython3",
   "version": "3.7.15"
  }
 },
 "nbformat": 4,
 "nbformat_minor": 5
}
